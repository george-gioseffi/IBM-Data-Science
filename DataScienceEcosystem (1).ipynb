{
 "cells": [
  {
   "cell_type": "markdown",
   "id": "eadeeae8",
   "metadata": {},
   "source": [
    "# Data Science Tools and Ecosystem"
   ]
  },
  {
   "cell_type": "markdown",
   "id": "1f4bbcce",
   "metadata": {},
   "source": [
    "Neste notebook, vou resumir de forma direta alguns pontos do ecossistema de **Data Science** que considero essenciais para começar bem."
   ]
  },
  {
   "cell_type": "markdown",
   "id": "eb6255b7",
   "metadata": {},
   "source": [
    "**OBjetivos:**\n",
    "\n",
    "- <b>Destacar linguagens populares para Data Science</b>\n",
    "- <b>Apontar bibliotecas que aparecem com frequência no dia a dia'</b>\n",
    "- <b>Montar uma pequena tabela com ferramentas open‑source</b>\n",
    "- <b>Mostrar exemplos simples de expressões aritméticas em Python</b>\n",
    "- <b>Converter minutos em horas com uma continha prática</b>"
   ]
  },
  {
   "cell_type": "markdown",
   "id": "a059d1a4",
   "metadata": {},
   "source": [
    "Algumas linguagens bem comuns em projetos de Data Science são:\n",
    "\n",
    "1. Python\n",
    "2. R\n",
    "3. SQL\n",
    "4. Julia"
   ]
  },
  {
   "cell_type": "markdown",
   "id": "ab9ad36c",
   "metadata": {},
   "source": [
    "Bibliotecas que aparecem bastante no fluxo de trabalho de cientistas de dados:\n",
    "\n",
    "1. Pandas\n",
    "2. NumPy\n",
    "3. Scikit‑learn\n",
    "4. Matplotlib / Seaborn\n",
    "5. TensorFlow / PyTorch"
   ]
  },
  {
   "cell_type": "markdown",
   "id": "838e8146",
   "metadata": {},
   "source": []
  },
  {
   "cell_type": "markdown",
   "id": "1bb3fb91",
   "metadata": {},
   "source": [
    "| Data Science Tools |\n",
    "|---|\n",
    "| JupyterLab |\n",
    "| RStudio |\n",
    "| Apache Zeppelin |\n"
   ]
  },
  {
   "cell_type": "markdown",
   "id": "966c14a2",
   "metadata": {},
   "source": [
    "### Abaixo, alguns exemplos rápidos de avaliação de expressões aritméticas em Python."
   ]
  },
  {
   "cell_type": "code",
   "execution_count": 3,
   "id": "0990c319",
   "metadata": {},
   "outputs": [
    {
     "data": {
      "text/plain": [
       "17"
      ]
     },
     "execution_count": 3,
     "metadata": {},
     "output_type": "execute_result"
    }
   ],
   "source": [
    "(3*4)+5"
   ]
  },
  {
   "cell_type": "code",
   "execution_count": 4,
   "id": "5d738b85",
   "metadata": {},
   "outputs": [
    {
     "data": {
      "text/plain": [
       "3.3333333333333335"
      ]
     },
     "execution_count": 4,
     "metadata": {},
     "output_type": "execute_result"
    }
   ],
   "source": [
    "200/60"
   ]
  },
  {
   "cell_type": "markdown",
   "id": "7982d985",
   "metadata": {},
   "source": [
    "## Autor\n",
    "George Gioseffi"
   ]
  }
 ],
 "metadata": {
  "kernelspec": {
   "display_name": "Python 3",
   "language": "python",
   "name": "python3"
  },
  "language_info": {
   "codemirror_mode": {
    "name": "ipython",
    "version": 3
   },
   "file_extension": ".py",
   "mimetype": "text/x-python",
   "name": "python",
   "nbconvert_exporter": "python",
   "pygments_lexer": "ipython3",
   "version": "3.11.9"
  }
 },
 "nbformat": 4,
 "nbformat_minor": 5
}
